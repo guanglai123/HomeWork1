{
  "nbformat": 4,
  "nbformat_minor": 0,
  "metadata": {
    "colab": {
      "provenance": []
    },
    "kernelspec": {
      "name": "python3",
      "display_name": "Python 3"
    },
    "language_info": {
      "name": "python"
    }
  },
  "cells": [
    {
      "cell_type": "code",
      "execution_count": 2,
      "metadata": {
        "colab": {
          "base_uri": "https://localhost:8080/"
        },
        "id": "42d_vqasiAkv",
        "outputId": "3140a175-0d22-4d65-e6a9-9ab841ef5f15"
      },
      "outputs": [
        {
          "output_type": "execute_result",
          "data": {
            "text/plain": [
              "47052721287394587764057094854672253553918218437190874778408030747195017485692977810906266281547645147"
            ]
          },
          "metadata": {},
          "execution_count": 2
        }
      ],
      "source": [
        "3**211"
      ]
    }
  ]
}